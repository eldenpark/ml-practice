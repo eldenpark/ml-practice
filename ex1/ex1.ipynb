{
 "cells": [
  {
   "cell_type": "code",
   "execution_count": 2,
   "metadata": {
    "collapsed": true
   },
   "outputs": [],
   "source": [
    "def sig(x, deriv = False):\n",
    "    if(deriv == True):\n",
    "        return x * (1 - x)\n",
    "    return 1 / (1 + np.exp(-x))\n",
    "    "
   ]
  },
  {
   "cell_type": "code",
   "execution_count": 16,
   "metadata": {},
   "outputs": [
    {
     "data": {
      "text/plain": [
       "array([[ 0.02987854,  0.96241652],\n",
       "       [ 0.99982335,  0.82155885],\n",
       "       [ 0.83021394,  0.57248651]])"
      ]
     },
     "execution_count": 16,
     "metadata": {},
     "output_type": "execute_result"
    }
   ],
   "source": [
    "import numpy as np\n",
    "\n",
    "x = np.array([[0,1],\n",
    "              [1,0],\n",
    "              [1,1]])\n",
    "\n",
    "y = np.array([[0,1],\n",
    "              [1,1],\n",
    "              [1,0]])\n",
    "\n",
    "np.random.seed(1)\n",
    "\n",
    "w0 = 2 * np.random.random((2,2)) - 1\n",
    "w1 = 2 * np.random.random((2,2)) - 1\n",
    "\n",
    "for i in range(1000):\n",
    "    \n",
    "    # Forward\n",
    "    z1 = np.dot(x, w0)\n",
    "    a1 = sig(z1)\n",
    "    z2 = np.dot(a1, w1)\n",
    "    a2 = sig(z2)\n",
    "\n",
    "    # Back\n",
    "#     loss_l2 = 0.5 * np.power(y - a2, 2)\n",
    "    deriv_loss_a2 = a2 - y # l2 error\n",
    "#     print(deriv_loss_a2)\n",
    "    deriv_a2_z2 = sig(a2, True)\n",
    "    delta2 = deriv_loss_a2 * deriv_a2_z2\n",
    "    \n",
    "    deriv_loss_a1 = np.dot(delta2, w1.T) # l1 error\n",
    "    deriv_a1_z1 = sig(a1, True)\n",
    "    delta1 = deriv_loss_a1 * deriv_a1_z1\n",
    "\n",
    "    w1 -= np.dot(a1.T, delta2)\n",
    "    w0 -= np.dot(x.T, delta1)\n",
    "    \n",
    "a2\n",
    "\n",
    "\n",
    "\n"
   ]
  },
  {
   "cell_type": "code",
   "execution_count": null,
   "metadata": {
    "collapsed": true
   },
   "outputs": [],
   "source": []
  },
  {
   "cell_type": "code",
   "execution_count": null,
   "metadata": {
    "collapsed": true
   },
   "outputs": [],
   "source": []
  }
 ],
 "metadata": {
  "kernelspec": {
   "display_name": "Python 3",
   "language": "python",
   "name": "python3"
  },
  "language_info": {
   "codemirror_mode": {
    "name": "ipython",
    "version": 3
   },
   "file_extension": ".py",
   "mimetype": "text/x-python",
   "name": "python",
   "nbconvert_exporter": "python",
   "pygments_lexer": "ipython3",
   "version": "3.6.1"
  }
 },
 "nbformat": 4,
 "nbformat_minor": 2
}
